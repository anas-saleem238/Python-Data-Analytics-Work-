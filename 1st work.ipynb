{
 "cells": [
  {
   "cell_type": "markdown",
   "id": "5cbad32a-255f-4868-9ad2-c2929485a96e",
   "metadata": {},
   "source": [
    "# Heading 1 \n",
    "## Heading 2 \n",
    "### **Heading 3**\n",
    "#### *Heading 4* \n",
    "##### HEading 5 \n",
    "###### Heading 6 "
   ]
  },
  {
   "cell_type": "markdown",
   "id": "0df8322d-ac81-476e-a6e8-fc4040d98b66",
   "metadata": {},
   "source": [
    "# Heading 1 \n",
    "## Heading 2 \n",
    "### **Heading 3**\n",
    "#### *Heading 4* \n",
    "##### HEading 5 \n",
    "###### Heading 6 "
   ]
  },
  {
   "cell_type": "code",
   "execution_count": 1,
   "id": "a0cc0d49-c25f-448b-82d1-ccd075c16509",
   "metadata": {},
   "outputs": [
    {
     "name": "stdout",
     "output_type": "stream",
     "text": [
      "Hello World\n"
     ]
    }
   ],
   "source": [
    "print(\"Hello World\")"
   ]
  },
  {
   "cell_type": "code",
   "execution_count": null,
   "id": "bd1f6cd9-d04d-4102-b0cb-26b600ca3209",
   "metadata": {},
   "outputs": [],
   "source": []
  },
  {
   "cell_type": "code",
   "execution_count": null,
   "id": "3a4553c6-c393-43a5-9f48-639e9c54a22d",
   "metadata": {},
   "outputs": [],
   "source": []
  }
 ],
 "metadata": {
  "kernelspec": {
   "display_name": "Python 3 (ipykernel)",
   "language": "python",
   "name": "python3"
  },
  "language_info": {
   "codemirror_mode": {
    "name": "ipython",
    "version": 3
   },
   "file_extension": ".py",
   "mimetype": "text/x-python",
   "name": "python",
   "nbconvert_exporter": "python",
   "pygments_lexer": "ipython3",
   "version": "3.12.4"
  }
 },
 "nbformat": 4,
 "nbformat_minor": 5
}
